{
 "cells": [
  {
   "cell_type": "markdown",
   "id": "1cb0ffd0",
   "metadata": {},
   "source": [
    "## T01 Exercici 1"
   ]
  },
  {
   "cell_type": "markdown",
   "id": "21d0e169",
   "metadata": {},
   "source": [
    "1. Crea una llista que agrupi els mesos de l’any en trimestres (1T: Gener, Febrer i Març, 2T: Abril, Maig, Juny...), és a dir, una llista amb 4 llistes dins."
   ]
  },
  {
   "cell_type": "code",
   "execution_count": 10,
   "id": "d6a936b1",
   "metadata": {
    "ExecuteTime": {
     "end_time": "2022-03-30T14:44:26.490546Z",
     "start_time": "2022-03-30T14:44:26.483553Z"
    }
   },
   "outputs": [],
   "source": [
    "T1 = ['gener', 'febrer', 'març']\n",
    "T2 = [\"abril\", \"maig\", \"juny\"]\n",
    "T3 = [\"juliol\", \"agost\", \"setembre\"]\n",
    "T4 = [\"octubre\", \"novembre\", \"desembre\"]\n"
   ]
  },
  {
   "cell_type": "code",
   "execution_count": 15,
   "id": "fc798bff",
   "metadata": {
    "ExecuteTime": {
     "end_time": "2022-03-30T14:47:16.166111Z",
     "start_time": "2022-03-30T14:47:16.150119Z"
    }
   },
   "outputs": [
    {
     "name": "stdout",
     "output_type": "stream",
     "text": [
      "['gener', 'febrer', 'març', 'abril', 'maig', 'juny', 'juliol', 'agost', 'setembre', 'octubre', 'novembre', 'desembre']\n"
     ]
    }
   ],
   "source": [
    "llistaTrimestres = T1 + T2 + T3 + T4\n",
    "print(llistaTrimestres)"
   ]
  },
  {
   "cell_type": "markdown",
   "id": "ec9f4f73",
   "metadata": {},
   "source": [
    "## T01 Exercici 2"
   ]
  },
  {
   "cell_type": "markdown",
   "id": "8ae586ad",
   "metadata": {},
   "source": [
    "Crea un codi que et permeti accedir a:\n",
    "\n",
    "* El segon mes del primer trimestre\n",
    "* Els mesos del primer trimestre\n",
    "* Setembre i octubre"
   ]
  },
  {
   "cell_type": "markdown",
   "id": "df09da15",
   "metadata": {},
   "source": [
    "### OPCIÓ AMB LLISTA"
   ]
  },
  {
   "cell_type": "code",
   "execution_count": 13,
   "id": "944540fa",
   "metadata": {
    "ExecuteTime": {
     "end_time": "2022-03-31T16:01:54.743435Z",
     "start_time": "2022-03-31T16:01:54.735438Z"
    }
   },
   "outputs": [
    {
     "name": "stdout",
     "output_type": "stream",
     "text": [
      "El segon mes del primer trimestre és  febrer\n",
      "Els mesos del primer trimestre són  ['gener', 'febrer', 'març']\n",
      "setembre  i  octubre\n"
     ]
    }
   ],
   "source": [
    "T1 = ['gener', 'febrer', 'març']\n",
    "T2 = [\"abril\", \"maig\", \"juny\"]\n",
    "T3 = [\"juliol\", \"agost\", \"setembre\"]\n",
    "T4 = [\"octubre\", \"novembre\", \"desembre\"]\n",
    "\n",
    "print(\"El segon mes del primer trimestre és \", T1[1])\n",
    "print(\"Els mesos del primer trimestre són \", T1)\n",
    "print(T3[2], \" i \", T4[0])"
   ]
  },
  {
   "cell_type": "markdown",
   "id": "6b2c8136",
   "metadata": {},
   "source": [
    "### OPCIÓ AMB ARRAY I NUMPY"
   ]
  },
  {
   "cell_type": "code",
   "execution_count": 4,
   "id": "6733e0ea",
   "metadata": {
    "ExecuteTime": {
     "end_time": "2022-04-01T11:47:53.492719Z",
     "start_time": "2022-04-01T11:47:53.480727Z"
    }
   },
   "outputs": [
    {
     "name": "stdout",
     "output_type": "stream",
     "text": [
      "El segon mes del primer trimestre és  febrer\n",
      "Els mesos del primer trimestre són  ['gener' 'febrer' 'març']\n",
      "setembre  i  octubre\n"
     ]
    }
   ],
   "source": [
    "import numpy as np\n",
    "\n",
    "arr = np.array([['gener', 'febrer', 'març'], [\"abril\", \"maig\", \"juny\"], [\"juliol\", \"agost\", \"setembre\"],[\"octubre\", \"novembre\", \"desembre\"]])\n",
    "\n",
    "print(\"El segon mes del primer trimestre és \", arr[0,1])\n",
    "print(\"Els mesos del primer trimestre són \", arr[0,0:])\n",
    "print(arr[2,2], \" i \", arr[3,0])"
   ]
  },
  {
   "cell_type": "markdown",
   "id": "d865ee71",
   "metadata": {
    "ExecuteTime": {
     "end_time": "2022-03-31T15:02:23.129653Z",
     "start_time": "2022-03-31T15:02:23.120662Z"
    }
   },
   "source": [
    "## T01 Exercici 3"
   ]
  },
  {
   "cell_type": "markdown",
   "id": "df83e9bf",
   "metadata": {},
   "source": [
    "Crea una llista amb nombres desordenats i respon a les següents preguntes:\n",
    "\n",
    "* Quants números hi ha?\n",
    "* Quantes vegades apareix el número 3\n",
    "* Quantes vegades apareixen els nombres 3 i 4?\n",
    "* Quin és el número més gran?\n",
    "* Quins són els 3 números més petits?\n",
    "* Quin és el rang d’aquesta llista?"
   ]
  },
  {
   "cell_type": "code",
   "execution_count": 1,
   "id": "3d5f2dc2",
   "metadata": {
    "ExecuteTime": {
     "end_time": "2022-04-04T13:47:38.437797Z",
     "start_time": "2022-04-04T13:47:38.420806Z"
    }
   },
   "outputs": [
    {
     "name": "stdout",
     "output_type": "stream",
     "text": [
      "La llista té  20  números\n",
      "La llista té  1 número 3\n",
      "La llista té 1 número 3 i té 2 número 4. Per tant té 3 números 3 i 4\n",
      "El número més gran de la llista és el 95\n",
      "[2, 2, 3, 4, 4, 5, 6, 9, 20, 21, 22, 25, 29, 41, 54, 62, 62, 78, 84, 95]\n",
      "Els 3 números més petits de la llista són [2, 2, 3]\n",
      "El rang de la llista va del 2 al 95\n"
     ]
    }
   ],
   "source": [
    "llistaNumeros = [3,5,9,4,95,84,62,2,4,54,78,41,21,2,6,20,22,29,25,62]\n",
    "\n",
    "print(\"La llista té \", len(llistaNumeros), \" números\")\n",
    "\n",
    "print(\"La llista té \", llistaNumeros.count(3), \"número 3\")\n",
    "\n",
    "print(\"La llista té\", llistaNumeros.count(3), \"número 3 i té\", llistaNumeros.count(4), \"número 4. Per tant té\", llistaNumeros.count(3) + llistaNumeros.count(4), \"números 3 i 4\")\n",
    "\n",
    "print(\"El número més gran de la llista és el\", max(llistaNumeros))\n",
    "\n",
    "llistaNumeros.sort() #primer ordeno la llista de menor a major i després imprimeixo els 3 més petits\n",
    "print(llistaNumeros)\n",
    "print(\"Els 3 números més petits de la llista són\", llistaNumeros[0:3])\n",
    "\n",
    "#aprofito que tinc la llista ordenada de l'anterior punt per buscar el rang de la llista\n",
    "print(\"El rang de la llista va del\", llistaNumeros[0], \"al\", llistaNumeros[-1])\n"
   ]
  },
  {
   "cell_type": "markdown",
   "id": "b7a8d486",
   "metadata": {},
   "source": [
    "## T01 Exercici 4"
   ]
  },
  {
   "cell_type": "markdown",
   "id": "ddada22d",
   "metadata": {},
   "source": [
    "Crea un diccionari de la següent forma i respon a les preguntes:\n",
    "\n",
    "compra = { \"Pomes\" : {\"Qty\": 5, \"€\": 0.42}, \"Peres\" : {\"Qty\": 3, \"€\": 0.66} }\n",
    "\n",
    "* Afegeix alguna fruita més\n",
    "* Quant han costat les peres en total?\n",
    "* Quantes fruites hem comprat en total?\n",
    "* Quina és la fruita més cara?"
   ]
  },
  {
   "cell_type": "code",
   "execution_count": 28,
   "id": "c28b56c3",
   "metadata": {
    "ExecuteTime": {
     "end_time": "2022-04-04T14:18:04.239051Z",
     "start_time": "2022-04-04T14:18:04.221063Z"
    },
    "code_folding": [],
    "scrolled": true
   },
   "outputs": [
    {
     "name": "stdout",
     "output_type": "stream",
     "text": [
      "{'Pomes': {'Qty': 5, '€': 0.42}, 'Peres': {'Qty': 3, '€': 0.66}}\n",
      "{'Pomes': {'Qty': 5, '€': 0.42}, 'Peres': {'Qty': 3, '€': 0.66}, 'Taronges': {'Qty': 10, '€': 0.99}}\n",
      "Si he comprat 3 peres a 0.66 € cada una, el total del cost de les peres és de 1.98 €\n",
      "En total hem comprat 18 peces de fruita\n",
      "La fruita més cara són les Taronges\n",
      "La fruita més cara són les Taronges\n"
     ]
    }
   ],
   "source": [
    "compra = { \n",
    "    \"Pomes\" : {\n",
    "        \"Qty\": 5, \n",
    "        \"€\": 0.42}, \n",
    "    \"Peres\" : {\n",
    "        \"Qty\": 3, \n",
    "        \"€\": 0.66} \n",
    "}\n",
    "\n",
    "print(compra) #primer imprimeixo l'original per assegurar que l'he introduït bé\n",
    "compra[\"Taronges\"] = {\"Qty\": 10, \"€\": 0.99}\n",
    "print(compra)\n",
    "\n",
    "fruita= \"Peres\"\n",
    "print(\"Si he comprat\", compra[fruita][\"Qty\"], \"peres a\", compra[fruita][\"€\"], \"€ cada una, el total del cost de les peres és de\", compra[fruita][\"Qty\"]*compra[fruita][\"€\"], \"€\")\n",
    "\n",
    "totalFruites=0\n",
    "for fruita in compra:\n",
    "    totalFruites = totalFruites + compra[fruita][\"Qty\"]\n",
    "print(\"En total hem comprat\", totalFruites, \"peces de fruita\")\n",
    "    \n",
    "\n",
    "\n",
    "preu = 0\n",
    "\n",
    "#opció 1 amb l'if primer\n",
    "if compra[fruita][\"€\"] > preu:\n",
    "    for fruita in compra:\n",
    "        preu = compra[fruita][\"€\"]\n",
    "print(\"La fruita més cara són les\", fruita)\n",
    "\n",
    "#opció 2 amb el bucle primer\n",
    "for fruita in compra:\n",
    "    if compra[fruita][\"€\"] > preu:\n",
    "        preu = compra[fruita][\"€\"]\n",
    "print (\"La fruita més cara són les\", fruita)    \n",
    "    \n",
    "\n",
    "\n",
    "\n",
    "\n",
    "        \n",
    "           \n",
    "    \n",
    "\n",
    "\n",
    "\n"
   ]
  },
  {
   "cell_type": "code",
   "execution_count": null,
   "id": "675c6d29",
   "metadata": {},
   "outputs": [],
   "source": []
  },
  {
   "cell_type": "code",
   "execution_count": null,
   "id": "92d69391",
   "metadata": {},
   "outputs": [],
   "source": []
  }
 ],
 "metadata": {
  "hide_input": false,
  "kernelspec": {
   "display_name": "Python 3 (ipykernel)",
   "language": "python",
   "name": "python3"
  },
  "language_info": {
   "codemirror_mode": {
    "name": "ipython",
    "version": 3
   },
   "file_extension": ".py",
   "mimetype": "text/x-python",
   "name": "python",
   "nbconvert_exporter": "python",
   "pygments_lexer": "ipython3",
   "version": "3.9.7"
  },
  "latex_envs": {
   "LaTeX_envs_menu_present": true,
   "autoclose": false,
   "autocomplete": true,
   "bibliofile": "biblio.bib",
   "cite_by": "apalike",
   "current_citInitial": 1,
   "eqLabelWithNumbers": true,
   "eqNumInitial": 1,
   "hotkeys": {
    "equation": "Ctrl-E",
    "itemize": "Ctrl-I"
   },
   "labels_anchors": false,
   "latex_user_defs": false,
   "report_style_numbering": false,
   "user_envs_cfg": false
  },
  "toc": {
   "base_numbering": 1,
   "nav_menu": {},
   "number_sections": true,
   "sideBar": true,
   "skip_h1_title": false,
   "title_cell": "Table of Contents",
   "title_sidebar": "Contents",
   "toc_cell": false,
   "toc_position": {},
   "toc_section_display": true,
   "toc_window_display": false
  },
  "varInspector": {
   "cols": {
    "lenName": 16,
    "lenType": 16,
    "lenVar": 40
   },
   "kernels_config": {
    "python": {
     "delete_cmd_postfix": "",
     "delete_cmd_prefix": "del ",
     "library": "var_list.py",
     "varRefreshCmd": "print(var_dic_list())"
    },
    "r": {
     "delete_cmd_postfix": ") ",
     "delete_cmd_prefix": "rm(",
     "library": "var_list.r",
     "varRefreshCmd": "cat(var_dic_list()) "
    }
   },
   "types_to_exclude": [
    "module",
    "function",
    "builtin_function_or_method",
    "instance",
    "_Feature"
   ],
   "window_display": false
  }
 },
 "nbformat": 4,
 "nbformat_minor": 5
}
